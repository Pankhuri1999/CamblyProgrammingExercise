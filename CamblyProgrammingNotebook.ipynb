{
 "cells": [
  {
   "cell_type": "code",
   "execution_count": 5,
   "metadata": {},
   "outputs": [],
   "source": [
    "def func(output):\n",
    "    punctuations = '''!()-[]{};:'\"\\,<>./?@#$%^&*_~'''     # removing punctuation from sentences\n",
    "    no_punc = \"\"\n",
    "    for char in output:\n",
    "        if char not in punctuations:\n",
    "            no_punc = no_punc + char\n",
    "        no_punc = no_punc.lower()     # new sentence without punctuation and in small letters\n",
    "    output = {}   # initialising dictionary to store words and their frequencies\n",
    "    for word in no_punc.split():    # loop which passes over non-punctuated sentence and split it into words\n",
    "        if word not in output.keys():\n",
    "            output[word] = 0\n",
    "        output[word] += 1\n",
    "     # sorting the words with descending frequencies and alphabetically\n",
    "    a = sorted(output.items(), key=lambda item: (-item[1], item[0]))  \n",
    "    return a"
   ]
  },
  {
   "cell_type": "markdown",
   "metadata": {},
   "source": [
    "# first test"
   ]
  },
  {
   "cell_type": "code",
   "execution_count": 6,
   "metadata": {},
   "outputs": [
    {
     "name": "stdout",
     "output_type": "stream",
     "text": [
      "This is a test. That is not a test. Test\n"
     ]
    }
   ],
   "source": [
    "output = input(\"\")"
   ]
  },
  {
   "cell_type": "code",
   "execution_count": 7,
   "metadata": {},
   "outputs": [
    {
     "name": "stdout",
     "output_type": "stream",
     "text": [
      "[('test', 3), ('a', 2), ('is', 2), ('not', 1), ('that', 1), ('this', 1)]\n"
     ]
    }
   ],
   "source": [
    "print(func(output))"
   ]
  },
  {
   "cell_type": "markdown",
   "metadata": {},
   "source": [
    "# second test"
   ]
  },
  {
   "cell_type": "code",
   "execution_count": 8,
   "metadata": {},
   "outputs": [
    {
     "name": "stdout",
     "output_type": "stream",
     "text": [
      "From the moment the first immigrants arrived on these shores, generations of parents have worked hard and sacrificed whatever is necessary so that their children could have the same chances they had; or the chances they never had. Because while we could never ensure that our children would be rich or successful; while we could never be positive that they would do better than their parents, America is about making it possible to give them the chance. To give every child the opportunity to try. Education is still the foundation of this opportunity. And the most basic building block that holds that foundation together is still reading. At the dawn of the 21st century, in a world where knowledge truly is power and literacy is the skill that unlocks the gates of opportunity and success, we all have a responsibility as parents and librarians, educators and citizens, to instill in our children a love of reading so that we can give them the chance to fulfill their dreams.\n"
     ]
    }
   ],
   "source": [
    "output = input(\"\")"
   ]
  },
  {
   "cell_type": "code",
   "execution_count": 9,
   "metadata": {},
   "outputs": [
    {
     "name": "stdout",
     "output_type": "stream",
     "text": [
      "[('the', 13), ('that', 7), ('and', 6), ('is', 6), ('of', 5), ('to', 5), ('we', 4), ('a', 3), ('children', 3), ('could', 3), ('give', 3), ('have', 3), ('never', 3), ('opportunity', 3), ('parents', 3), ('their', 3), ('they', 3), ('be', 2), ('chance', 2), ('chances', 2), ('foundation', 2), ('in', 2), ('or', 2), ('our', 2), ('reading', 2), ('so', 2), ('still', 2), ('them', 2), ('while', 2), ('would', 2), ('21st', 1), ('about', 1), ('all', 1), ('america', 1), ('arrived', 1), ('as', 1), ('at', 1), ('basic', 1), ('because', 1), ('better', 1), ('block', 1), ('building', 1), ('can', 1), ('century', 1), ('child', 1), ('citizens', 1), ('dawn', 1), ('do', 1), ('dreams', 1), ('education', 1), ('educators', 1), ('ensure', 1), ('every', 1), ('first', 1), ('from', 1), ('fulfill', 1), ('gates', 1), ('generations', 1), ('had', 1), ('had;', 1), ('hard', 1), ('holds', 1), ('immigrants', 1), ('instill', 1), ('it', 1), ('knowledge', 1), ('librarians', 1), ('literacy', 1), ('love', 1), ('making', 1), ('moment', 1), ('most', 1), ('necessary', 1), ('on', 1), ('positive', 1), ('possible', 1), ('power', 1), ('responsibility', 1), ('rich', 1), ('sacrificed', 1), ('same', 1), ('shores', 1), ('skill', 1), ('success', 1), ('successful;', 1), ('than', 1), ('these', 1), ('this', 1), ('together', 1), ('truly', 1), ('try', 1), ('unlocks', 1), ('whatever', 1), ('where', 1), ('worked', 1), ('world', 1)]\n"
     ]
    }
   ],
   "source": [
    "print(func(output))"
   ]
  },
  {
   "cell_type": "code",
   "execution_count": null,
   "metadata": {},
   "outputs": [],
   "source": []
  }
 ],
 "metadata": {
  "kernelspec": {
   "display_name": "Python 3",
   "language": "python",
   "name": "python3"
  },
  "language_info": {
   "codemirror_mode": {
    "name": "ipython",
    "version": 3
   },
   "file_extension": ".py",
   "mimetype": "text/x-python",
   "name": "python",
   "nbconvert_exporter": "python",
   "pygments_lexer": "ipython3",
   "version": "3.7.4"
  }
 },
 "nbformat": 4,
 "nbformat_minor": 4
}
